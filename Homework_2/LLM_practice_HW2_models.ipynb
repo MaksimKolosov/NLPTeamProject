{
  "nbformat": 4,
  "nbformat_minor": 0,
  "metadata": {
    "colab": {
      "provenance": [],
      "gpuType": "T4"
    },
    "kernelspec": {
      "name": "python3",
      "display_name": "Python 3"
    },
    "language_info": {
      "name": "python"
    },
    "accelerator": "GPU"
  },
  "cells": [
    {
      "cell_type": "code",
      "source": [
        "import numpy as np\n",
        "import pandas as pd\n",
        "from sklearn.model_selection import train_test_split\n",
        "from sklearn.feature_extraction.text import TfidfVectorizer\n",
        "from sklearn.linear_model import LogisticRegression\n",
        "from sklearn.svm import LinearSVC\n",
        "from sklearn.metrics import accuracy_score, f1_score\n",
        "from tensorflow.keras.preprocessing.text import Tokenizer\n",
        "from tensorflow.keras.preprocessing.sequence import pad_sequences\n",
        "from tensorflow.keras.models import Model\n",
        "from tensorflow.keras.layers import Input, Embedding, Conv1D, GlobalMaxPooling1D, Dense, Dropout, Concatenate\n",
        "from scipy.optimize import minimize\n",
        "import warnings\n",
        "warnings.filterwarnings('ignore')"
      ],
      "metadata": {
        "id": "5RNFvLNeASfo"
      },
      "execution_count": 8,
      "outputs": []
    },
    {
      "cell_type": "code",
      "source": [
        "df = pd.read_csv(\"dataset_news_cut_ready_v2.csv\")"
      ],
      "metadata": {
        "id": "nURzopGUAui0"
      },
      "execution_count": 11,
      "outputs": []
    },
    {
      "cell_type": "code",
      "source": [
        "df = df.drop(columns=['Unnamed: 0.1', 'Unnamed: 0'])"
      ],
      "metadata": {
        "id": "qpiu-_dyD5pw"
      },
      "execution_count": 12,
      "outputs": []
    },
    {
      "cell_type": "code",
      "source": [
        "df.head(1)"
      ],
      "metadata": {
        "colab": {
          "base_uri": "https://localhost:8080/",
          "height": 115
        },
        "id": "4ciP-iAQB0B9",
        "outputId": "5b18c818-b245-48a3-92e2-9d4b0a454ba5"
      },
      "execution_count": 13,
      "outputs": [
        {
          "output_type": "execute_result",
          "data": {
            "text/plain": [
              "                                               title  \\\n",
              "0   Donald Trump Sends Out Embarrassing New Year’...   \n",
              "\n",
              "                                                text  target  \\\n",
              "0  Donald Trump just couldn t wish all Americans ...       0   \n",
              "\n",
              "                                            text_cnn  \\\n",
              "0  donald trump just couldn t wish all americans ...   \n",
              "\n",
              "                                         text_linear  \\\n",
              "0  donald trump wish americans happy new year lea...   \n",
              "\n",
              "                                           title_cnn  \\\n",
              "0   donald trump sends out embarrassing new year’...   \n",
              "\n",
              "                                        title_linear  \n",
              "0  donald trump sends embarrassing new year eve m...  "
            ],
            "text/html": [
              "\n",
              "  <div id=\"df-64f7dc45-34f2-438f-b80a-d3147f21e04c\" class=\"colab-df-container\">\n",
              "    <div>\n",
              "<style scoped>\n",
              "    .dataframe tbody tr th:only-of-type {\n",
              "        vertical-align: middle;\n",
              "    }\n",
              "\n",
              "    .dataframe tbody tr th {\n",
              "        vertical-align: top;\n",
              "    }\n",
              "\n",
              "    .dataframe thead th {\n",
              "        text-align: right;\n",
              "    }\n",
              "</style>\n",
              "<table border=\"1\" class=\"dataframe\">\n",
              "  <thead>\n",
              "    <tr style=\"text-align: right;\">\n",
              "      <th></th>\n",
              "      <th>title</th>\n",
              "      <th>text</th>\n",
              "      <th>target</th>\n",
              "      <th>text_cnn</th>\n",
              "      <th>text_linear</th>\n",
              "      <th>title_cnn</th>\n",
              "      <th>title_linear</th>\n",
              "    </tr>\n",
              "  </thead>\n",
              "  <tbody>\n",
              "    <tr>\n",
              "      <th>0</th>\n",
              "      <td>Donald Trump Sends Out Embarrassing New Year’...</td>\n",
              "      <td>Donald Trump just couldn t wish all Americans ...</td>\n",
              "      <td>0</td>\n",
              "      <td>donald trump just couldn t wish all americans ...</td>\n",
              "      <td>donald trump wish americans happy new year lea...</td>\n",
              "      <td>donald trump sends out embarrassing new year’...</td>\n",
              "      <td>donald trump sends embarrassing new year eve m...</td>\n",
              "    </tr>\n",
              "  </tbody>\n",
              "</table>\n",
              "</div>\n",
              "    <div class=\"colab-df-buttons\">\n",
              "\n",
              "  <div class=\"colab-df-container\">\n",
              "    <button class=\"colab-df-convert\" onclick=\"convertToInteractive('df-64f7dc45-34f2-438f-b80a-d3147f21e04c')\"\n",
              "            title=\"Convert this dataframe to an interactive table.\"\n",
              "            style=\"display:none;\">\n",
              "\n",
              "  <svg xmlns=\"http://www.w3.org/2000/svg\" height=\"24px\" viewBox=\"0 -960 960 960\">\n",
              "    <path d=\"M120-120v-720h720v720H120Zm60-500h600v-160H180v160Zm220 220h160v-160H400v160Zm0 220h160v-160H400v160ZM180-400h160v-160H180v160Zm440 0h160v-160H620v160ZM180-180h160v-160H180v160Zm440 0h160v-160H620v160Z\"/>\n",
              "  </svg>\n",
              "    </button>\n",
              "\n",
              "  <style>\n",
              "    .colab-df-container {\n",
              "      display:flex;\n",
              "      gap: 12px;\n",
              "    }\n",
              "\n",
              "    .colab-df-convert {\n",
              "      background-color: #E8F0FE;\n",
              "      border: none;\n",
              "      border-radius: 50%;\n",
              "      cursor: pointer;\n",
              "      display: none;\n",
              "      fill: #1967D2;\n",
              "      height: 32px;\n",
              "      padding: 0 0 0 0;\n",
              "      width: 32px;\n",
              "    }\n",
              "\n",
              "    .colab-df-convert:hover {\n",
              "      background-color: #E2EBFA;\n",
              "      box-shadow: 0px 1px 2px rgba(60, 64, 67, 0.3), 0px 1px 3px 1px rgba(60, 64, 67, 0.15);\n",
              "      fill: #174EA6;\n",
              "    }\n",
              "\n",
              "    .colab-df-buttons div {\n",
              "      margin-bottom: 4px;\n",
              "    }\n",
              "\n",
              "    [theme=dark] .colab-df-convert {\n",
              "      background-color: #3B4455;\n",
              "      fill: #D2E3FC;\n",
              "    }\n",
              "\n",
              "    [theme=dark] .colab-df-convert:hover {\n",
              "      background-color: #434B5C;\n",
              "      box-shadow: 0px 1px 3px 1px rgba(0, 0, 0, 0.15);\n",
              "      filter: drop-shadow(0px 1px 2px rgba(0, 0, 0, 0.3));\n",
              "      fill: #FFFFFF;\n",
              "    }\n",
              "  </style>\n",
              "\n",
              "    <script>\n",
              "      const buttonEl =\n",
              "        document.querySelector('#df-64f7dc45-34f2-438f-b80a-d3147f21e04c button.colab-df-convert');\n",
              "      buttonEl.style.display =\n",
              "        google.colab.kernel.accessAllowed ? 'block' : 'none';\n",
              "\n",
              "      async function convertToInteractive(key) {\n",
              "        const element = document.querySelector('#df-64f7dc45-34f2-438f-b80a-d3147f21e04c');\n",
              "        const dataTable =\n",
              "          await google.colab.kernel.invokeFunction('convertToInteractive',\n",
              "                                                    [key], {});\n",
              "        if (!dataTable) return;\n",
              "\n",
              "        const docLinkHtml = 'Like what you see? Visit the ' +\n",
              "          '<a target=\"_blank\" href=https://colab.research.google.com/notebooks/data_table.ipynb>data table notebook</a>'\n",
              "          + ' to learn more about interactive tables.';\n",
              "        element.innerHTML = '';\n",
              "        dataTable['output_type'] = 'display_data';\n",
              "        await google.colab.output.renderOutput(dataTable, element);\n",
              "        const docLink = document.createElement('div');\n",
              "        docLink.innerHTML = docLinkHtml;\n",
              "        element.appendChild(docLink);\n",
              "      }\n",
              "    </script>\n",
              "  </div>\n",
              "\n",
              "    </div>\n",
              "  </div>\n"
            ],
            "application/vnd.google.colaboratory.intrinsic+json": {
              "type": "dataframe",
              "variable_name": "df",
              "summary": "{\n  \"name\": \"df\",\n  \"rows\": 39448,\n  \"fields\": [\n    {\n      \"column\": \"title\",\n      \"properties\": {\n        \"dtype\": \"string\",\n        \"num_unique_values\": 33492,\n        \"samples\": [\n          \"Zimbabwe's Mugabe widens purge, clearing wife's succession path\",\n          \"New Jersey's Murphy echoes Sanders in Democratic bid for governor\",\n          \"Trump to tap nuclear industry lobbyist for U.S. Energy Dept job\"\n        ],\n        \"semantic_type\": \"\",\n        \"description\": \"\"\n      }\n    },\n    {\n      \"column\": \"text\",\n      \"properties\": {\n        \"dtype\": \"string\",\n        \"num_unique_values\": 33229,\n        \"samples\": [\n          \"Donald Trump is still delusional and Twitter users were quick to remind him of who lost the popular vote in November.It s been almost six months since the 2016 Election concluded in November, but Trump is still under the delusion that he won the popular vote and is insisting that he would still win if another election were held.In a pair of tweets on Sunday, Trump declared that the ABC News/Washington Post poll is  fake news  even though the poll showed that most Trump supporters don t regret their vote and that a slim majority approve of his foreign policy and his pressure on American companies to keep jobs here. Apparently, Trump only believes polls are fake when the numbers are against him.For instance, his approval rating is the lowest for any president since 1945 in the first 100 days. And most Americans don t trust him.Trump also liked the part of the poll that suggests he would win the popular vote if the election were held again.New polls out today are very good considering that much of the media is FAKE and almost always negative. Would still beat Hillary in  ..  Donald J. Trump (@realDonaldTrump) April 23, 2017 popular vote. ABC News/Washington Post Poll (wrong big on election) said almost all stand by their vote on me & 53% said strong leader.  Donald J. Trump (@realDonaldTrump) April 23, 2017The problem is that Trump lost the popular vote by nearly 3 million votes in 2016 despite low voter turnout by Democrats and a protest vote against Hillary in favor of third party candidates.Twitter users didn t wait long to put Trump in his place.@realDonaldTrump  Would still beat Hillary in the popular vote  you NEVER beat Hillary in the popular vote. How do people take you seriously?!  William LeGate (@williamlegate) April 23, 2017@realDonaldTrump YOU DIDN T WIN THE POPULAR VOTE.???? BTW, where is all the evidence of those  3 million illegal votes ? We re waiting. pic.twitter.com/ZA8bHeFV3A  Holly #TheResistance (@AynRandPaulRyan) April 23, 2017@realDonaldTrump Would you like to note the rest of the poll? 52% said they would not trust you in a crisis.  Shawn Garrett (@ShawnGarrett) April 24, 2017@realDonaldTrump STILL beat her? You didn t beat her in popular vote. What planet do you live on? #EarlyStageAlzheimers #DementiaSettingIn  T   I  (@TheMIXXRadio) April 23, 2017@realDonaldTrump What an egotistic, incurably delusional man-child. What happened to you before, that makes you constantly feel the need for validation? SAD!  Francis B. Baraan (@MrFrankBaraan) April 23, 2017@realDonaldTrump Umm you lost by 3 million votes. Maybe you should worry about getting stuff done and not about an election that happened six months ago  Impeach Donald Trump (@Impeach_D_Trump) April 23, 2017Featured image via Drew Angerer/Getty Images\",\n          \"Vanguard Group Chief Executive Bill McNabb said on Thursday he was encouraged by the U.S. Department of Labor\\u2019s steps to make new rules on the advice brokers provide on retirement savings \\u201cmore workable.\\u201d \\u201cWe are encouraged that the DOL has taken important steps to establish meaningful protections for retirement investors while making the final rule more workable,\\u201d McNabb said in a statement posted online. The Obama administration on Wednesday unveiled its final version of a retirement advice rule aimed at ensuring that broker-dealers put their clients\\u2019 interests ahead of their own profits, though it was softened in response to industry complaints. Vanguard, a major manager of retirement investments that oversees more than $3 trillion in assets, had criticized an earlier version of the proposal as being applied too broadly to its activities and to situations in which investors would not reasonably expect that they were receiving investment advice. Yet Vanguard said the new rule makes disclosure and contract requirements \\u201cmore practical and easier to follow.\\u201d \\u201cAll of the effort within the industry to improve the DOL proposal appears to have produced positive results,\\u201d according to John Schadl, a member of the company\\u2019s legal department, according to a statement also posted online. The company praised the government\\u2019s efforts to align its rules better with existing standards laid out by other regulatory bodies, although Vanguard said \\u201cthe DOL could have done more to harmonize these standards.\\u201d The Valley Forge, Pennsylvania-based company said it has not fully reviewed the 1,023 pages of rules the department released. \\u201cIt is almost certain that we will find provisions of the new rule that will adversely affect some within the industry,\\u201d Schadl said in the statement. \",\n          \"Republican strategist Cheri Jacobus, who has appeared as a pundit on Fox News, filed a $4m defamation lawsuit on Monday in New York City against Donald Trump and his campaign (shocker). The suit alleges that the frontrunner and his campaign manager, woman batterer Corey Lewandowski, engaged in defamation aimed  with the purpose of making her an object lesson, to those who might question Trump and his fitness for office, to incite a virtual mob against her, to destroy her reputation, and to bully her. The bullying tactics occurred after Jacobus criticized the frontrunner on TV and Twitter. Jacobus approached the Trump campaign with the hopes of obtaining a job as communications director, but decided against it after finding Lewandowski  unprofessional  and a  powder keg,  meaning a dangerous or volatile person or situation.Well, Trump didn t like that. After she made her criticism public, Trump sent off the first hate-tweet, calling Jacobus  a real dummy.  When Jacobus attempted to reign in the drama with a cease-and-desist letter, the frontrunner took to Twitter yet again, referring to her as a  Major loser,  with zero credibility. Lewandowski then went on MSNBC to discredit Jacobus, saying: This is the same person, I ll just tell ya, who came to the office on multiple occasions trying to get a job from the Trump campaign, and when she wasn t hired clearly she went off and was upset by that. After that, Jacobus starting getting threatening, harassing hate mail from Trump supporters, and Fox News stonewalled the strategist. Jacobus also shows that Trump, who is friends with Roger Ailes, helped convince the network to drop her from appearing on their cable news programs. According to Jacobus, Lewandowski showed her the email where Ailes promised to be on Trump s side, not hers.So, Donald Trump resorted to bullying and intimidation to silence a female strategist who didn t agree with him? I m shocked I tell you, shocked! And of course the Trump campaign brushed off the lawsuit as  just another frivolous lawsuit and an attempt to gain notoriety at the expense of Donald Trump. Much like everything else, the Trump campaign just brushes everything off, and his band of backwards thinking supporters will eat it up. Featured image via Flickr\"\n        ],\n        \"semantic_type\": \"\",\n        \"description\": \"\"\n      }\n    },\n    {\n      \"column\": \"target\",\n      \"properties\": {\n        \"dtype\": \"number\",\n        \"std\": 0,\n        \"min\": 0,\n        \"max\": 1,\n        \"num_unique_values\": 2,\n        \"samples\": [\n          1,\n          0\n        ],\n        \"semantic_type\": \"\",\n        \"description\": \"\"\n      }\n    },\n    {\n      \"column\": \"text_cnn\",\n      \"properties\": {\n        \"dtype\": \"string\",\n        \"num_unique_values\": 33229,\n        \"samples\": [\n          \"donald trump is still delusional and twitter users were quick to remind him of who lost the popular vote in november.it s been almost six months since the 2016 election concluded in november, but trump is still under the delusion that he won the popular vote and is insisting that he would still win if another election were held.in a pair of tweets on sunday, trump declared that the abc news/washington post poll is  fake news  even though the poll showed that most trump supporters don t regret their vote and that a slim majority approve of his foreign policy and his pressure on american companies to keep jobs here. apparently, trump only believes polls are fake when the numbers are against him.for instance, his approval rating is the lowest for any president since 1945 in the first 100 days. and most americans don t trust him.trump also liked the part of the poll that suggests he would win the popular vote if the election were held again.new polls out today are very good considering that much of the media is fake and almost always negative. would still beat hillary in  ..  donald j. trump (@realdonaldtrump) april 23, 2017 popular vote. abc news/washington post poll (wrong big on election) said almost all stand by their vote on me & 53% said strong leader.  donald j. trump (@realdonaldtrump) april 23, 2017the problem is that trump lost the popular vote by nearly 3 million votes in 2016 despite low voter turnout by democrats and a protest vote against hillary in favor of third party candidates.twitter users didn t wait long to put trump in his place.@realdonaldtrump  would still beat hillary in the popular vote  you never beat hillary in the popular vote. how do people take you seriously?!  william legate (@williamlegate) april 23, 2017@realdonaldtrump you didn t win the popular vote.???? btw, where is all the evidence of those  3 million illegal votes ? we re waiting. pic.twitter.com/za8bhefv3a  holly #theresistance (@aynrandpaulryan) april 23, 2017@realdonaldtrump would you like to note the rest of the poll? 52% said they would not trust you in a crisis.  shawn garrett (@shawngarrett) april 24, 2017@realdonaldtrump still beat her? you didn t beat her in popular vote. what planet do you live on? #earlystagealzheimers #dementiasettingin  t   i  (@themixxradio) april 23, 2017@realdonaldtrump what an egotistic, incurably delusional man-child. what happened to you before, that makes you constantly feel the need for validation? sad!  francis b. baraan (@mrfrankbaraan) april 23, 2017@realdonaldtrump umm you lost by 3 million votes. maybe you should worry about getting stuff done and not about an election that happened six months ago  impeach donald trump (@impeach_d_trump) april 23, 2017featured image via drew angerer/getty images\",\n          \"vanguard group chief executive bill mcnabb said on thursday he was encouraged by the u.s. department of labor\\u2019s steps to make new rules on the advice brokers provide on retirement savings \\u201cmore workable.\\u201d \\u201cwe are encouraged that the dol has taken important steps to establish meaningful protections for retirement investors while making the final rule more workable,\\u201d mcnabb said in a statement posted online. the obama administration on wednesday unveiled its final version of a retirement advice rule aimed at ensuring that broker-dealers put their clients\\u2019 interests ahead of their own profits, though it was softened in response to industry complaints. vanguard, a major manager of retirement investments that oversees more than $3 trillion in assets, had criticized an earlier version of the proposal as being applied too broadly to its activities and to situations in which investors would not reasonably expect that they were receiving investment advice. yet vanguard said the new rule makes disclosure and contract requirements \\u201cmore practical and easier to follow.\\u201d \\u201call of the effort within the industry to improve the dol proposal appears to have produced positive results,\\u201d according to john schadl, a member of the company\\u2019s legal department, according to a statement also posted online. the company praised the government\\u2019s efforts to align its rules better with existing standards laid out by other regulatory bodies, although vanguard said \\u201cthe dol could have done more to harmonize these standards.\\u201d the valley forge, pennsylvania-based company said it has not fully reviewed the 1,023 pages of rules the department released. \\u201cit is almost certain that we will find provisions of the new rule that will adversely affect some within the industry,\\u201d schadl said in the statement. \"\n        ],\n        \"semantic_type\": \"\",\n        \"description\": \"\"\n      }\n    },\n    {\n      \"column\": \"text_linear\",\n      \"properties\": {\n        \"dtype\": \"string\",\n        \"num_unique_values\": 33062,\n        \"samples\": [\n          \"german chancellor angela merkel focus expanding business ties trying regulate migration africa africa summit abidjan week comes pressure home make progress faster fronts merkel taking break month long drive form new government attend summit keen demonstrate germany continued ability act foreign policy front underscore commitment africa join french president emmanuel macron summit focus education investment youth economic development prevent refugees economic migrants attempting treacherous journey across mediterranean libya main departure point mostly african migrants trying cross europe smugglers usually pack flimsy inflatable boats often break sink chancellor told conservative event saturday would press expanded trade ties investment urging african leaders bilateral talks accept return citizens right stay europe trip important german leader amid widespread criticism decision allow million migrants mostly middle east afghanistan pressure home avert another migration crisis losing support far right sept election germany likely adopt immigration law kind aftermath election losses mainstream parties experts say far right anti immigrant alternative germany afd party could see gains new election next year merkel fails convince social democrats renew grand coalition ruled last four years year merkel made africa cornerstone germany presidency industrialized nations illegal migration africa remains concern rights groups blasting failure address conditions migrant camps libya elsewhere merkel also faced criticism german companies say risk losing face burgeoning interest region rivals france china united states britain india turkey germany trade balance african countries expanded percent percent first half declining slightly german industry remains underrepresented markets future said christoph kannengiesser director german african business association compared international firms german companies noticeably behind due insufficient support government\",\n          \"fox news channel jeanine pirro went gop establishment saturday justice pirro accused establishment republicans leaders watching democrats railroad president urged prove loyalty convincing everyone effort take president donald trump republican establishment fighting commander chief day day watch savaged forcing defend run country think knocked succession clear things back way pirro said power damn later exclaimed something pass something cut kumbaya crap put big boy pants act like power act like give damn importantly convince effort take president united states breitbart\"\n        ],\n        \"semantic_type\": \"\",\n        \"description\": \"\"\n      }\n    },\n    {\n      \"column\": \"title_cnn\",\n      \"properties\": {\n        \"dtype\": \"string\",\n        \"num_unique_values\": 33491,\n        \"samples\": [\n          \"report: trump has chosen his next communications director\\u2026and she will be perfect for the job!\",\n          \"buchanan on trump: after the coup, what then?\"\n        ],\n        \"semantic_type\": \"\",\n        \"description\": \"\"\n      }\n    },\n    {\n      \"column\": \"title_linear\",\n      \"properties\": {\n        \"dtype\": \"string\",\n        \"num_unique_values\": 33433,\n        \"samples\": [\n          \"lebanon hariri says hold resignation\",\n          \"drops claims texas voter law\"\n        ],\n        \"semantic_type\": \"\",\n        \"description\": \"\"\n      }\n    }\n  ]\n}"
            }
          },
          "metadata": {},
          "execution_count": 13
        }
      ]
    },
    {
      "cell_type": "code",
      "source": [
        "print(f\"Размеры выборок: Train: {X_train.shape}, Val: {X_val.shape}, Test: {X_test.shape}\")"
      ],
      "metadata": {
        "colab": {
          "base_uri": "https://localhost:8080/"
        },
        "id": "XiaI2YQ-Dw6C",
        "outputId": "a221e41a-246e-4899-c36a-15bb71dd8eaf"
      },
      "execution_count": 15,
      "outputs": [
        {
          "output_type": "stream",
          "name": "stdout",
          "text": [
            "Размеры выборок: Train: (23668, 6), Val: (7890, 6), Test: (7890, 6)\n"
          ]
        }
      ]
    },
    {
      "cell_type": "code",
      "source": [
        "df.dropna(how=\"any\", inplace=True)"
      ],
      "metadata": {
        "id": "yrKzoeh0EhxI"
      },
      "execution_count": 20,
      "outputs": []
    },
    {
      "cell_type": "code",
      "source": [
        "print(df.isna().sum())\n",
        "print(df.isnull().sum())"
      ],
      "metadata": {
        "colab": {
          "base_uri": "https://localhost:8080/"
        },
        "id": "7-n6FeR7FHHK",
        "outputId": "8d03a4cb-dd44-4b01-8475-687d8e7fd976"
      },
      "execution_count": 29,
      "outputs": [
        {
          "output_type": "stream",
          "name": "stdout",
          "text": [
            "title           0\n",
            "text            0\n",
            "target          0\n",
            "text_cnn        0\n",
            "text_linear     0\n",
            "title_cnn       0\n",
            "title_linear    0\n",
            "dtype: int64\n",
            "title           0\n",
            "text            0\n",
            "target          0\n",
            "text_cnn        0\n",
            "text_linear     0\n",
            "title_cnn       0\n",
            "title_linear    0\n",
            "dtype: int64\n"
          ]
        }
      ]
    },
    {
      "cell_type": "code",
      "source": [
        "print(\"Пустые строки по столбцам:\")\n",
        "for col in ['title_linear', 'text_linear', 'title_cnn', 'text_cnn']:\n",
        "    empty_count = (df[col] == '').sum()\n",
        "    print(f\"{col}: {empty_count}\")\n",
        "print()"
      ],
      "metadata": {
        "colab": {
          "base_uri": "https://localhost:8080/"
        },
        "id": "OhsrK16pGsMa",
        "outputId": "4996dd4f-aa8b-44ca-834a-dfc787ba58c0"
      },
      "execution_count": 30,
      "outputs": [
        {
          "output_type": "stream",
          "name": "stdout",
          "text": [
            "Пустые строки по столбцам:\n",
            "title_linear: 0\n",
            "text_linear: 0\n",
            "title_cnn: 0\n",
            "text_cnn: 0\n",
            "\n"
          ]
        }
      ]
    },
    {
      "cell_type": "code",
      "source": [
        "#делим на выборки\n",
        "X_temp, X_test, y_temp, y_test = train_test_split(\n",
        "    df.drop('target', axis=1), df['target'], test_size=0.2, random_state=42, stratify=df['target']\n",
        ")\n",
        "X_train, X_val, y_train, y_val = train_test_split(\n",
        "    X_temp, y_temp, test_size=0.25, random_state=42, stratify=y_temp # 0.25 * 0.8 = 0.2\n",
        ")"
      ],
      "metadata": {
        "id": "w_vYR3owDsRL"
      },
      "execution_count": 31,
      "outputs": []
    },
    {
      "cell_type": "code",
      "source": [
        "#Линейные модели\n",
        "train_texts_linear = (X_train['title_linear'] + \" \" + X_train['text_linear']).tolist()\n",
        "val_texts_linear = (X_val['title_linear'] + \" \" + X_val['text_linear']).tolist()\n",
        "test_texts_linear = (X_test['title_linear'] + \" \" + X_test['text_linear']).tolist()"
      ],
      "metadata": {
        "id": "3yuGXp8zEVSe"
      },
      "execution_count": 32,
      "outputs": []
    },
    {
      "cell_type": "code",
      "source": [
        "vectorizer = TfidfVectorizer(max_features=50000, ngram_range=(1,2), stop_words='english')\n",
        "X_train_tfidf = vectorizer.fit_transform(train_texts_linear)\n",
        "X_val_tfidf = vectorizer.transform(val_texts_linear)\n",
        "X_test_tfidf = vectorizer.transform(test_texts_linear)"
      ],
      "metadata": {
        "id": "CzorQnZSFn5n"
      },
      "execution_count": 33,
      "outputs": []
    },
    {
      "cell_type": "code",
      "source": [
        "# Обучение LogisticRegression\n",
        "lr_model = LogisticRegression(C=1.0, random_state=42, n_jobs=-1, max_iter=1000)\n",
        "lr_model.fit(X_train_tfidf, y_train)\n",
        "lr_val_pred = lr_model.predict_proba(X_val_tfidf)[:, 1] # Берем вероятность класса 1"
      ],
      "metadata": {
        "id": "GMmv9b0ZG__8"
      },
      "execution_count": 34,
      "outputs": []
    },
    {
      "cell_type": "code",
      "source": [
        "# Обучение LinearSVM\n",
        "svm_model = LinearSVC(C=1.0, random_state=42, max_iter=2000)\n",
        "svm_model.fit(X_train_tfidf, y_train)\n",
        "# SVM из sklearn не имеет predict_proba по умолчанию, используем decision_function и нормализуем\n",
        "svm_val_dec = svm_model.decision_function(X_val_tfidf)\n",
        "svm_val_pred = (svm_val_dec - svm_val_dec.min()) / (svm_val_dec.max() - svm_val_dec.min())"
      ],
      "metadata": {
        "id": "lsZ5hA5uHKM5"
      },
      "execution_count": 35,
      "outputs": []
    },
    {
      "cell_type": "code",
      "source": [
        "# Параметры для текстов\n",
        "max_words = 50000\n",
        "max_len_title = 30\n",
        "max_len_text = 200\n",
        "\n",
        "# Подготовка данных для CNN\n",
        "train_title_cnn = X_train['title_cnn'].astype(str).tolist()\n",
        "train_text_cnn = X_train['text_cnn'].astype(str).tolist()\n",
        "val_title_cnn = X_val['title_cnn'].astype(str).tolist()\n",
        "val_text_cnn = X_val['text_cnn'].astype(str).tolist()\n",
        "test_title_cnn = X_test['title_cnn'].astype(str).tolist()\n",
        "test_text_cnn = X_test['text_cnn'].astype(str).tolist()\n",
        "\n",
        "# Токенизация\n",
        "tokenizer = Tokenizer(num_words=max_words, oov_token='<OOV>')\n",
        "# Обучаем на объединенных данных заголовков и текстов для единого словаря\n",
        "all_texts_cnn = train_title_cnn + train_text_cnn + val_title_cnn + val_text_cnn\n",
        "tokenizer.fit_on_texts(all_texts_cnn)\n",
        "\n",
        "# Преобразование в последовательности и паддинг\n",
        "def preprocess_sequences(texts, maxlen):\n",
        "    sequences = tokenizer.texts_to_sequences(texts)\n",
        "    return pad_sequences(sequences, maxlen=maxlen, padding='post', truncating='post')\n",
        "\n",
        "X_train_title_seq = preprocess_sequences(train_title_cnn, max_len_title)\n",
        "X_train_text_seq = preprocess_sequences(train_text_cnn, max_len_text)\n",
        "X_val_title_seq = preprocess_sequences(val_title_cnn, max_len_title)\n",
        "X_val_text_seq = preprocess_sequences(val_text_cnn, max_len_text)\n",
        "X_test_title_seq = preprocess_sequences(test_title_cnn, max_len_title)\n",
        "X_test_text_seq = preprocess_sequences(test_text_cnn, max_len_text)\n",
        "\n",
        "# Создание модели CNN с двумя входами\n",
        "def create_cnn_model():\n",
        "    # Входы\n",
        "    input_title = Input(shape=(max_len_title,), name='title_input')\n",
        "    input_text = Input(shape=(max_len_text,), name='text_input')\n",
        "\n",
        "    embedding_layer = Embedding(input_dim=max_words, output_dim=128)\n",
        "\n",
        "    title_embedded = embedding_layer(input_title)\n",
        "    text_embedded = embedding_layer(input_text)\n",
        "\n",
        "    title_conv = Conv1D(64, 3, activation='relu')(title_embedded)\n",
        "    title_pool = GlobalMaxPooling1D()(title_conv)\n",
        "\n",
        "    text_conv = Conv1D(64, 5, activation='relu')(text_embedded)\n",
        "    text_pool = GlobalMaxPooling1D()(text_conv)\n",
        "\n",
        "    concatenated = Concatenate()([title_pool, text_pool])\n",
        "\n",
        "    dense = Dense(64, activation='relu')(concatenated)\n",
        "    dropout = Dropout(0.5)(dense)\n",
        "    output = Dense(1, activation='sigmoid')(dropout)\n",
        "\n",
        "    model = Model(inputs=[input_title, input_text], outputs=output)\n",
        "    model.compile(optimizer='adam', loss='binary_crossentropy', metrics=['accuracy'])\n",
        "    return model\n",
        "\n",
        "cnn_model = create_cnn_model()\n",
        "# cnn_model.summary() # Раскомментируйте, чтобы посмотреть архитектуру\n",
        "\n",
        "# обучение CNN\n",
        "history = cnn_model.fit(\n",
        "    [X_train_title_seq, X_train_text_seq],\n",
        "    y_train,\n",
        "    batch_size=128,\n",
        "    epochs=5, # Количество эпох можно увеличить\n",
        "    validation_data=([X_val_title_seq, X_val_text_seq], y_val),\n",
        "    verbose=1\n",
        ")\n",
        "\n",
        "# получаем предсказания CNN на валидации\n",
        "cnn_val_pred = cnn_model.predict([X_val_title_seq, X_val_text_seq]).flatten()"
      ],
      "metadata": {
        "colab": {
          "base_uri": "https://localhost:8080/"
        },
        "id": "qrjdNtJeHTwy",
        "outputId": "da8509c1-072c-4fc7-aac7-de2b821d19e1"
      },
      "execution_count": 36,
      "outputs": [
        {
          "output_type": "stream",
          "name": "stdout",
          "text": [
            "Epoch 1/5\n",
            "\u001b[1m182/182\u001b[0m \u001b[32m━━━━━━━━━━━━━━━━━━━━\u001b[0m\u001b[37m\u001b[0m \u001b[1m18s\u001b[0m 42ms/step - accuracy: 0.7995 - loss: 0.3771 - val_accuracy: 0.9910 - val_loss: 0.0268\n",
            "Epoch 2/5\n",
            "\u001b[1m182/182\u001b[0m \u001b[32m━━━━━━━━━━━━━━━━━━━━\u001b[0m\u001b[37m\u001b[0m \u001b[1m1s\u001b[0m 7ms/step - accuracy: 0.9965 - loss: 0.0128 - val_accuracy: 0.9923 - val_loss: 0.0217\n",
            "Epoch 3/5\n",
            "\u001b[1m182/182\u001b[0m \u001b[32m━━━━━━━━━━━━━━━━━━━━\u001b[0m\u001b[37m\u001b[0m \u001b[1m1s\u001b[0m 7ms/step - accuracy: 0.9999 - loss: 0.0019 - val_accuracy: 0.9937 - val_loss: 0.0189\n",
            "Epoch 4/5\n",
            "\u001b[1m182/182\u001b[0m \u001b[32m━━━━━━━━━━━━━━━━━━━━\u001b[0m\u001b[37m\u001b[0m \u001b[1m1s\u001b[0m 7ms/step - accuracy: 1.0000 - loss: 5.6357e-04 - val_accuracy: 0.9944 - val_loss: 0.0199\n",
            "Epoch 5/5\n",
            "\u001b[1m182/182\u001b[0m \u001b[32m━━━━━━━━━━━━━━━━━━━━\u001b[0m\u001b[37m\u001b[0m \u001b[1m1s\u001b[0m 7ms/step - accuracy: 1.0000 - loss: 2.9351e-04 - val_accuracy: 0.9942 - val_loss: 0.0209\n",
            "\u001b[1m243/243\u001b[0m \u001b[32m━━━━━━━━━━━━━━━━━━━━\u001b[0m\u001b[37m\u001b[0m \u001b[1m2s\u001b[0m 5ms/step\n"
          ]
        }
      ]
    },
    {
      "cell_type": "code",
      "source": [
        "# Собираем предсказания всех моделей на валидационной выборке в одну матрицу\n",
        "val_predictions = np.column_stack([lr_val_pred, svm_val_pred, cnn_val_pred])\n",
        "\n",
        "# Функция для взвешенного голосования, которую будем оптимизировать\n",
        "def weighted_accuracy(weights):\n",
        "    # Нормализуем веса, чтобы их сумма была равна 1\n",
        "    final_weights = weights / np.sum(weights)\n",
        "    # Взвешенное среднее предсказаний\n",
        "    weighted_ensemble_pred = np.average(val_predictions, axis=1, weights=final_weights)\n",
        "    # Преобразуем вероятности в бинарные предсказания (0 или 1)\n",
        "    binary_predictions = (weighted_ensemble_pred > 0.5).astype(int)\n",
        "    # Целевая метрика: 1 - accuracy (чтобы минимизировать ошибку)\n",
        "    return 1 - accuracy_score(y_val, binary_predictions)\n",
        "\n",
        "# Начальные веса (равномерное распределение)\n",
        "initial_weights = np.array([1.0, 1.0, 1.0])\n",
        "\n",
        "# Ограничения: веса должны быть неотрицательными\n",
        "bounds = [(0, None)] * 3\n",
        "\n",
        "# Оптимизация весов\n",
        "result = minimize(weighted_accuracy, initial_weights, method='SLSQP', bounds=bounds)\n",
        "\n",
        "# подбор весов\n",
        "optimal_weights = result['x'] / np.sum(result['x'])\n",
        "print(f\"\\nОптимальные веса для ансамбля\")\n",
        "print(f\"LogisticRegression: {optimal_weights[0]:.4f}\")\n",
        "print(f\"LinearSVM: {optimal_weights[1]:.4f}\")\n",
        "print(f\"CNN: {optimal_weights[2]:.4f}\")\n",
        "\n",
        "# Получаем предсказания всех моделей на тестовой выборке\n",
        "lr_test_pred = lr_model.predict_proba(X_test_tfidf)[:, 1]\n",
        "svm_test_dec = svm_model.decision_function(X_test_tfidf)\n",
        "svm_test_pred = (svm_test_dec - svm_test_dec.min()) / (svm_test_dec.max() - svm_test_dec.min())\n",
        "cnn_test_pred = cnn_model.predict([X_test_title_seq, X_test_text_seq]).flatten()\n",
        "\n",
        "# Собираем тестовые предсказания\n",
        "test_predictions = np.column_stack([lr_test_pred, svm_test_pred, cnn_test_pred])\n",
        "\n",
        "# оптимальные веса для финального предсказания\n",
        "final_ensemble_pred = np.average(test_predictions, axis=1, weights=optimal_weights)\n",
        "final_ensemble_binary = (final_ensemble_pred > 0.5).astype(int)\n",
        "\n",
        "# оценка качества\n",
        "test_accuracy = accuracy_score(y_test, final_ensemble_binary)\n",
        "test_f1 = f1_score(y_test, final_ensemble_binary)\n",
        "\n",
        "print(f\"\\nРезультаты на тестовой выборке\")\n",
        "print(f\"Точность ансамбля (Accuracy): {test_accuracy:.4f}\")\n",
        "print(f\"F1-Score ансамбля: {test_f1:.4f}\")\n",
        "\n",
        "# сравнение с индивидуальными моделями\n",
        "print(f\"\\nСравнение с индивидуальными моделями (Accuracy)\")\n",
        "print(f\"LogisticRegression: {accuracy_score(y_test, (lr_test_pred > 0.5).astype(int)):.4f}\")\n",
        "print(f\"LinearSVM: {accuracy_score(y_test, (svm_test_pred > 0.5).astype(int)):.4f}\")\n",
        "print(f\"CNN: {accuracy_score(y_test, (cnn_test_pred > 0.5).astype(int)):.4f}\")"
      ],
      "metadata": {
        "colab": {
          "base_uri": "https://localhost:8080/"
        },
        "id": "MTM4u9ayHd42",
        "outputId": "75448895-2c8a-4e65-c6aa-61133792b180"
      },
      "execution_count": 39,
      "outputs": [
        {
          "output_type": "stream",
          "name": "stdout",
          "text": [
            "\n",
            "Оптимальные веса для ансамбля\n",
            "LogisticRegression: 0.3333\n",
            "LinearSVM: 0.3333\n",
            "CNN: 0.3333\n",
            "\u001b[1m243/243\u001b[0m \u001b[32m━━━━━━━━━━━━━━━━━━━━\u001b[0m\u001b[37m\u001b[0m \u001b[1m1s\u001b[0m 2ms/step\n",
            "\n",
            "Результаты на тестовой выборке\n",
            "Точность ансамбля (Accuracy): 0.9961\n",
            "F1-Score ансамбля: 0.9953\n",
            "\n",
            "Сравнение с индивидуальными моделями (Accuracy)\n",
            "LogisticRegression: 0.9786\n",
            "LinearSVM: 0.9822\n",
            "CNN: 0.9947\n"
          ]
        }
      ]
    }
  ]
}