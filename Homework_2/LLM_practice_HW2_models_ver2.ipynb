{
  "nbformat": 4,
  "nbformat_minor": 0,
  "metadata": {
    "colab": {
      "provenance": [],
      "gpuType": "T4"
    },
    "kernelspec": {
      "name": "python3",
      "display_name": "Python 3"
    },
    "language_info": {
      "name": "python"
    },
    "accelerator": "GPU"
  },
  "cells": [
    {
      "cell_type": "code",
      "source": [
        "import numpy as np\n",
        "import pandas as pd\n",
        "from sklearn.model_selection import train_test_split\n",
        "from sklearn.feature_extraction.text import TfidfVectorizer\n",
        "from sklearn.linear_model import LogisticRegression\n",
        "from sklearn.svm import LinearSVC\n",
        "from sklearn.metrics import accuracy_score, f1_score\n",
        "from tensorflow.keras.preprocessing.text import Tokenizer\n",
        "from tensorflow.keras.preprocessing.sequence import pad_sequences\n",
        "from tensorflow.keras.models import Model\n",
        "from tensorflow.keras.layers import Input, Embedding, Conv1D, GlobalMaxPooling1D, Dense, Dropout, Concatenate\n",
        "from scipy.optimize import minimize\n",
        "import warnings\n",
        "warnings.filterwarnings('ignore')"
      ],
      "metadata": {
        "id": "5RNFvLNeASfo"
      },
      "execution_count": 1,
      "outputs": []
    },
    {
      "cell_type": "code",
      "source": [
        "df = pd.read_csv(\"dataset_news_cut_ready_v2.csv\")"
      ],
      "metadata": {
        "id": "nURzopGUAui0"
      },
      "execution_count": 2,
      "outputs": []
    },
    {
      "cell_type": "code",
      "source": [
        "df = df.drop(columns=['Unnamed: 0.1', 'Unnamed: 0'])"
      ],
      "metadata": {
        "id": "qpiu-_dyD5pw"
      },
      "execution_count": 3,
      "outputs": []
    },
    {
      "cell_type": "code",
      "source": [
        "df.head(1)"
      ],
      "metadata": {
        "colab": {
          "base_uri": "https://localhost:8080/",
          "height": 114
        },
        "id": "4ciP-iAQB0B9",
        "outputId": "20d8ca2a-9d21-4d9f-e132-106cc43fcc11"
      },
      "execution_count": 4,
      "outputs": [
        {
          "output_type": "execute_result",
          "data": {
            "text/plain": [
              "                                               title  \\\n",
              "0   Donald Trump Sends Out Embarrassing New Year’...   \n",
              "\n",
              "                                                text  target  \\\n",
              "0  Donald Trump just couldn t wish all Americans ...       0   \n",
              "\n",
              "                                            text_cnn  \\\n",
              "0  donald trump just couldn t wish all americans ...   \n",
              "\n",
              "                                         text_linear  \\\n",
              "0  donald trump wish americans happy new year lea...   \n",
              "\n",
              "                                           title_cnn  \\\n",
              "0   donald trump sends out embarrassing new year’...   \n",
              "\n",
              "                                        title_linear  \n",
              "0  donald trump sends embarrassing new year eve m...  "
            ],
            "text/html": [
              "\n",
              "  <div id=\"df-2bef1070-2e01-4f40-b2d3-52d7815921e3\" class=\"colab-df-container\">\n",
              "    <div>\n",
              "<style scoped>\n",
              "    .dataframe tbody tr th:only-of-type {\n",
              "        vertical-align: middle;\n",
              "    }\n",
              "\n",
              "    .dataframe tbody tr th {\n",
              "        vertical-align: top;\n",
              "    }\n",
              "\n",
              "    .dataframe thead th {\n",
              "        text-align: right;\n",
              "    }\n",
              "</style>\n",
              "<table border=\"1\" class=\"dataframe\">\n",
              "  <thead>\n",
              "    <tr style=\"text-align: right;\">\n",
              "      <th></th>\n",
              "      <th>title</th>\n",
              "      <th>text</th>\n",
              "      <th>target</th>\n",
              "      <th>text_cnn</th>\n",
              "      <th>text_linear</th>\n",
              "      <th>title_cnn</th>\n",
              "      <th>title_linear</th>\n",
              "    </tr>\n",
              "  </thead>\n",
              "  <tbody>\n",
              "    <tr>\n",
              "      <th>0</th>\n",
              "      <td>Donald Trump Sends Out Embarrassing New Year’...</td>\n",
              "      <td>Donald Trump just couldn t wish all Americans ...</td>\n",
              "      <td>0</td>\n",
              "      <td>donald trump just couldn t wish all americans ...</td>\n",
              "      <td>donald trump wish americans happy new year lea...</td>\n",
              "      <td>donald trump sends out embarrassing new year’...</td>\n",
              "      <td>donald trump sends embarrassing new year eve m...</td>\n",
              "    </tr>\n",
              "  </tbody>\n",
              "</table>\n",
              "</div>\n",
              "    <div class=\"colab-df-buttons\">\n",
              "      \n",
              "  <div class=\"colab-df-container\">\n",
              "    <button class=\"colab-df-convert\" onclick=\"convertToInteractive('df-2bef1070-2e01-4f40-b2d3-52d7815921e3')\"\n",
              "            title=\"Convert this dataframe to an interactive table.\"\n",
              "            style=\"display:none;\">\n",
              "      \n",
              "  <svg xmlns=\"http://www.w3.org/2000/svg\" height=\"24px\" viewBox=\"0 -960 960 960\">\n",
              "    <path d=\"M120-120v-720h720v720H120Zm60-500h600v-160H180v160Zm220 220h160v-160H400v160Zm0 220h160v-160H400v160ZM180-400h160v-160H180v160Zm440 0h160v-160H620v160ZM180-180h160v-160H180v160Zm440 0h160v-160H620v160Z\"/>\n",
              "  </svg>\n",
              "    </button>\n",
              "    \n",
              "  <style>\n",
              "    .colab-df-container {\n",
              "      display:flex;\n",
              "      gap: 12px;\n",
              "    }\n",
              "\n",
              "    .colab-df-convert {\n",
              "      background-color: #E8F0FE;\n",
              "      border: none;\n",
              "      border-radius: 50%;\n",
              "      cursor: pointer;\n",
              "      display: none;\n",
              "      fill: #1967D2;\n",
              "      height: 32px;\n",
              "      padding: 0 0 0 0;\n",
              "      width: 32px;\n",
              "    }\n",
              "\n",
              "    .colab-df-convert:hover {\n",
              "      background-color: #E2EBFA;\n",
              "      box-shadow: 0px 1px 2px rgba(60, 64, 67, 0.3), 0px 1px 3px 1px rgba(60, 64, 67, 0.15);\n",
              "      fill: #174EA6;\n",
              "    }\n",
              "\n",
              "    .colab-df-buttons div {\n",
              "      margin-bottom: 4px;\n",
              "    }\n",
              "\n",
              "    [theme=dark] .colab-df-convert {\n",
              "      background-color: #3B4455;\n",
              "      fill: #D2E3FC;\n",
              "    }\n",
              "\n",
              "    [theme=dark] .colab-df-convert:hover {\n",
              "      background-color: #434B5C;\n",
              "      box-shadow: 0px 1px 3px 1px rgba(0, 0, 0, 0.15);\n",
              "      filter: drop-shadow(0px 1px 2px rgba(0, 0, 0, 0.3));\n",
              "      fill: #FFFFFF;\n",
              "    }\n",
              "  </style>\n",
              "\n",
              "    <script>\n",
              "      const buttonEl =\n",
              "        document.querySelector('#df-2bef1070-2e01-4f40-b2d3-52d7815921e3 button.colab-df-convert');\n",
              "      buttonEl.style.display =\n",
              "        google.colab.kernel.accessAllowed ? 'block' : 'none';\n",
              "\n",
              "      async function convertToInteractive(key) {\n",
              "        const element = document.querySelector('#df-2bef1070-2e01-4f40-b2d3-52d7815921e3');\n",
              "        const dataTable =\n",
              "          await google.colab.kernel.invokeFunction('convertToInteractive',\n",
              "                                                    [key], {});\n",
              "        if (!dataTable) return;\n",
              "\n",
              "        const docLinkHtml = 'Like what you see? Visit the ' +\n",
              "          '<a target=\"_blank\" href=https://colab.research.google.com/notebooks/data_table.ipynb>data table notebook</a>'\n",
              "          + ' to learn more about interactive tables.';\n",
              "        element.innerHTML = '';\n",
              "        dataTable['output_type'] = 'display_data';\n",
              "        await google.colab.output.renderOutput(dataTable, element);\n",
              "        const docLink = document.createElement('div');\n",
              "        docLink.innerHTML = docLinkHtml;\n",
              "        element.appendChild(docLink);\n",
              "      }\n",
              "    </script>\n",
              "  </div>\n",
              "  \n",
              "    </div>\n",
              "  </div>\n",
              "  "
            ]
          },
          "metadata": {},
          "execution_count": 4
        }
      ]
    },
    {
      "cell_type": "code",
      "source": [
        "df.dropna(how=\"any\", inplace=True)"
      ],
      "metadata": {
        "id": "yrKzoeh0EhxI"
      },
      "execution_count": 5,
      "outputs": []
    },
    {
      "cell_type": "code",
      "source": [
        "print(df.isna().sum())\n",
        "print(df.isnull().sum())"
      ],
      "metadata": {
        "colab": {
          "base_uri": "https://localhost:8080/"
        },
        "id": "7-n6FeR7FHHK",
        "outputId": "87e81d77-e081-42e2-eb2b-cb73c49219bf"
      },
      "execution_count": 6,
      "outputs": [
        {
          "output_type": "stream",
          "name": "stdout",
          "text": [
            "title           0\n",
            "text            0\n",
            "target          0\n",
            "text_cnn        0\n",
            "text_linear     0\n",
            "title_cnn       0\n",
            "title_linear    0\n",
            "dtype: int64\n",
            "title           0\n",
            "text            0\n",
            "target          0\n",
            "text_cnn        0\n",
            "text_linear     0\n",
            "title_cnn       0\n",
            "title_linear    0\n",
            "dtype: int64\n"
          ]
        }
      ]
    },
    {
      "cell_type": "code",
      "source": [
        "print(\"Пустые строки по столбцам:\")\n",
        "for col in ['title_linear', 'text_linear', 'title_cnn', 'text_cnn']:\n",
        "    empty_count = (df[col] == '').sum()\n",
        "    print(f\"{col}: {empty_count}\")\n",
        "print()"
      ],
      "metadata": {
        "colab": {
          "base_uri": "https://localhost:8080/"
        },
        "id": "OhsrK16pGsMa",
        "outputId": "02e8213a-d7a9-4b15-b767-49dbf905bf86"
      },
      "execution_count": 7,
      "outputs": [
        {
          "output_type": "stream",
          "name": "stdout",
          "text": [
            "Пустые строки по столбцам:\n",
            "title_linear: 0\n",
            "text_linear: 0\n",
            "title_cnn: 0\n",
            "text_cnn: 0\n",
            "\n"
          ]
        }
      ]
    },
    {
      "cell_type": "code",
      "source": [
        "#делим на выборки\n",
        "X_temp, X_test, y_temp, y_test = train_test_split(\n",
        "    df.drop('target', axis=1), df['target'], test_size=0.2, random_state=42, stratify=df['target']\n",
        ")\n",
        "X_train, X_val, y_train, y_val = train_test_split(\n",
        "    X_temp, y_temp, test_size=0.25, random_state=42, stratify=y_temp # 0.25 * 0.8 = 0.2\n",
        ")"
      ],
      "metadata": {
        "id": "w_vYR3owDsRL"
      },
      "execution_count": 8,
      "outputs": []
    },
    {
      "cell_type": "code",
      "source": [
        "print(f\"Размеры выборок: Train: {X_train.shape}, Val: {X_val.shape}, Test: {X_test.shape}\")"
      ],
      "metadata": {
        "colab": {
          "base_uri": "https://localhost:8080/"
        },
        "id": "ZckR87fA8h1-",
        "outputId": "0194f99c-0f7b-4d11-b7ac-b3b62ec38a60"
      },
      "execution_count": 9,
      "outputs": [
        {
          "output_type": "stream",
          "name": "stdout",
          "text": [
            "Размеры выборок: Train: (26508, 6), Val: (8837, 6), Test: (8837, 6)\n"
          ]
        }
      ]
    },
    {
      "cell_type": "code",
      "source": [
        "#Линейные модели\n",
        "train_texts_linear = (X_train['title_linear'] + \" \" + X_train['text_linear']).tolist()\n",
        "val_texts_linear = (X_val['title_linear'] + \" \" + X_val['text_linear']).tolist()\n",
        "test_texts_linear = (X_test['title_linear'] + \" \" + X_test['text_linear']).tolist()"
      ],
      "metadata": {
        "id": "3yuGXp8zEVSe"
      },
      "execution_count": 10,
      "outputs": []
    },
    {
      "cell_type": "code",
      "source": [
        "vectorizer = TfidfVectorizer(max_features=50000, ngram_range=(1,2), stop_words='english')\n",
        "X_train_tfidf = vectorizer.fit_transform(train_texts_linear)\n",
        "X_val_tfidf = vectorizer.transform(val_texts_linear)\n",
        "X_test_tfidf = vectorizer.transform(test_texts_linear)"
      ],
      "metadata": {
        "id": "CzorQnZSFn5n"
      },
      "execution_count": 11,
      "outputs": []
    },
    {
      "cell_type": "code",
      "source": [
        "# Обучение LogisticRegression\n",
        "lr_model = LogisticRegression(C=1.0, random_state=42, n_jobs=-1, max_iter=1000)\n",
        "lr_model.fit(X_train_tfidf, y_train)\n",
        "lr_val_pred = lr_model.predict_proba(X_val_tfidf)[:, 1] # Берем вероятность класса 1"
      ],
      "metadata": {
        "id": "GMmv9b0ZG__8"
      },
      "execution_count": 12,
      "outputs": []
    },
    {
      "cell_type": "code",
      "source": [
        "# Обучение LinearSVM\n",
        "svm_model = LinearSVC(C=1.0, random_state=42, max_iter=2000)\n",
        "svm_model.fit(X_train_tfidf, y_train)\n",
        "# SVM из sklearn не имеет predict_proba по умолчанию, используем decision_function и нормализуем\n",
        "svm_val_dec = svm_model.decision_function(X_val_tfidf)\n",
        "svm_val_pred = (svm_val_dec - svm_val_dec.min()) / (svm_val_dec.max() - svm_val_dec.min())"
      ],
      "metadata": {
        "id": "lsZ5hA5uHKM5"
      },
      "execution_count": 13,
      "outputs": []
    },
    {
      "cell_type": "code",
      "source": [
        "# Параметры для текстов\n",
        "max_words = 50000\n",
        "max_len_title = 30\n",
        "max_len_text = 200\n",
        "\n",
        "# Подготовка данных для CNN\n",
        "train_title_cnn = X_train['title_cnn'].astype(str).tolist()\n",
        "train_text_cnn = X_train['text_cnn'].astype(str).tolist()\n",
        "val_title_cnn = X_val['title_cnn'].astype(str).tolist()\n",
        "val_text_cnn = X_val['text_cnn'].astype(str).tolist()\n",
        "test_title_cnn = X_test['title_cnn'].astype(str).tolist()\n",
        "test_text_cnn = X_test['text_cnn'].astype(str).tolist()\n",
        "\n",
        "# Токенизация\n",
        "tokenizer = Tokenizer(num_words=max_words, oov_token='<OOV>')\n",
        "# Обучаем на объединенных данных заголовков и текстов для единого словаря\n",
        "all_texts_cnn = train_title_cnn + train_text_cnn\n",
        "tokenizer.fit_on_texts(all_texts_cnn)\n",
        "\n",
        "# Преобразование в последовательности и паддинг\n",
        "def preprocess_sequences(texts, maxlen):\n",
        "    sequences = tokenizer.texts_to_sequences(texts)\n",
        "    return pad_sequences(sequences, maxlen=maxlen, padding='post', truncating='post')\n",
        "\n",
        "X_train_title_seq = preprocess_sequences(train_title_cnn, max_len_title)\n",
        "X_train_text_seq = preprocess_sequences(train_text_cnn, max_len_text)\n",
        "X_val_title_seq = preprocess_sequences(val_title_cnn, max_len_title)\n",
        "X_val_text_seq = preprocess_sequences(val_text_cnn, max_len_text)\n",
        "X_test_title_seq = preprocess_sequences(test_title_cnn, max_len_title)\n",
        "X_test_text_seq = preprocess_sequences(test_text_cnn, max_len_text)\n",
        "\n",
        "# Создание модели CNN с двумя входами\n",
        "def create_cnn_model():\n",
        "    # Входы\n",
        "    input_title = Input(shape=(max_len_title,), name='title_input')\n",
        "    input_text = Input(shape=(max_len_text,), name='text_input')\n",
        "\n",
        "    embedding_layer = Embedding(input_dim=max_words, output_dim=128)\n",
        "\n",
        "    title_embedded = embedding_layer(input_title)\n",
        "    text_embedded = embedding_layer(input_text)\n",
        "\n",
        "    title_conv = Conv1D(64, 3, activation='relu')(title_embedded)\n",
        "    title_pool = GlobalMaxPooling1D()(title_conv)\n",
        "\n",
        "    text_conv = Conv1D(64, 5, activation='relu')(text_embedded)\n",
        "    text_pool = GlobalMaxPooling1D()(text_conv)\n",
        "\n",
        "    concatenated = Concatenate()([title_pool, text_pool])\n",
        "\n",
        "    dropout1 = Dropout(0.3)(concatenated)\n",
        "    dense = Dense(64, activation='relu')(dropout1)\n",
        "    dropout2 = Dropout(0.5)(dense)\n",
        "    output = Dense(1, activation='sigmoid')(dropout2)\n",
        "\n",
        "    model = Model(inputs=[input_title, input_text], outputs=output)\n",
        "    model.compile(optimizer='adam', loss='binary_crossentropy', metrics=['accuracy'])\n",
        "    return model\n",
        "\n",
        "\n",
        "    model.compile(optimizer='adam', loss='binary_crossentropy', metrics=['accuracy'])\n",
        "    return model\n",
        "\n",
        "cnn_model = create_cnn_model()\n",
        "# cnn_model.summary() # Раскомментируйте, чтобы посмотреть архитектуру\n",
        "\n",
        "# обучение CNN\n",
        "history = cnn_model.fit(\n",
        "    [X_train_title_seq, X_train_text_seq],\n",
        "    y_train,\n",
        "    batch_size=128,\n",
        "    epochs=5, # Количество эпох можно увеличить\n",
        "    validation_data=([X_val_title_seq, X_val_text_seq], y_val),\n",
        "    verbose=1\n",
        ")\n",
        "\n",
        "# получаем предсказания CNN на валидации\n",
        "cnn_val_pred = cnn_model.predict([X_val_title_seq, X_val_text_seq]).flatten()"
      ],
      "metadata": {
        "colab": {
          "base_uri": "https://localhost:8080/"
        },
        "id": "qrjdNtJeHTwy",
        "outputId": "05748962-0f77-483d-b0bd-d554413a41be"
      },
      "execution_count": 14,
      "outputs": [
        {
          "output_type": "stream",
          "name": "stdout",
          "text": [
            "Epoch 1/5\n",
            "\u001b[1m208/208\u001b[0m \u001b[32m━━━━━━━━━━━━━━━━━━━━\u001b[0m\u001b[37m\u001b[0m \u001b[1m19s\u001b[0m 34ms/step - accuracy: 0.7900 - loss: 0.4116 - val_accuracy: 0.9890 - val_loss: 0.0338\n",
            "Epoch 2/5\n",
            "\u001b[1m208/208\u001b[0m \u001b[32m━━━━━━━━━━━━━━━━━━━━\u001b[0m\u001b[37m\u001b[0m \u001b[1m2s\u001b[0m 8ms/step - accuracy: 0.9934 - loss: 0.0216 - val_accuracy: 0.9930 - val_loss: 0.0223\n",
            "Epoch 3/5\n",
            "\u001b[1m208/208\u001b[0m \u001b[32m━━━━━━━━━━━━━━━━━━━━\u001b[0m\u001b[37m\u001b[0m \u001b[1m3s\u001b[0m 8ms/step - accuracy: 0.9991 - loss: 0.0044 - val_accuracy: 0.9929 - val_loss: 0.0261\n",
            "Epoch 4/5\n",
            "\u001b[1m208/208\u001b[0m \u001b[32m━━━━━━━━━━━━━━━━━━━━\u001b[0m\u001b[37m\u001b[0m \u001b[1m2s\u001b[0m 8ms/step - accuracy: 0.9996 - loss: 0.0020 - val_accuracy: 0.9926 - val_loss: 0.0256\n",
            "Epoch 5/5\n",
            "\u001b[1m208/208\u001b[0m \u001b[32m━━━━━━━━━━━━━━━━━━━━\u001b[0m\u001b[37m\u001b[0m \u001b[1m2s\u001b[0m 7ms/step - accuracy: 0.9997 - loss: 0.0014 - val_accuracy: 0.9932 - val_loss: 0.0266\n",
            "\u001b[1m277/277\u001b[0m \u001b[32m━━━━━━━━━━━━━━━━━━━━\u001b[0m\u001b[37m\u001b[0m \u001b[1m1s\u001b[0m 3ms/step\n"
          ]
        }
      ]
    },
    {
      "cell_type": "code",
      "source": [
        "# Собираем предсказания всех моделей на валидационной выборке в одну матрицу\n",
        "val_predictions = np.column_stack([lr_val_pred, svm_val_pred, cnn_val_pred])\n",
        "\n",
        "# Функция для взвешенного голосования, которую будем оптимизировать\n",
        "def weighted_accuracy(weights):\n",
        "    # Нормализуем веса, чтобы их сумма была равна 1\n",
        "    final_weights = weights / np.sum(weights)\n",
        "    # Взвешенное среднее предсказаний\n",
        "    weighted_ensemble_pred = np.average(val_predictions, axis=1, weights=final_weights)\n",
        "    # Преобразуем вероятности в бинарные предсказания (0 или 1)\n",
        "    binary_predictions = (weighted_ensemble_pred > 0.5).astype(int)\n",
        "    # Целевая метрика: 1 - accuracy (чтобы минимизировать ошибку)\n",
        "    return 1 - accuracy_score(y_val, binary_predictions)\n",
        "\n",
        "# Начальные веса (равномерное распределение)\n",
        "initial_weights = np.array([1.0, 1.0, 1.0])\n",
        "\n",
        "# Ограничения: веса должны быть неотрицательными\n",
        "bounds = [(0, None)] * 3\n",
        "\n",
        "# Оптимизация весов\n",
        "result = minimize(weighted_accuracy, initial_weights, method='SLSQP', bounds=bounds)\n",
        "\n",
        "# подбор весов\n",
        "optimal_weights = result['x'] / np.sum(result['x'])\n",
        "print(f\"\\nОптимальные веса для ансамбля\")\n",
        "print(f\"LogisticRegression: {optimal_weights[0]:.4f}\")\n",
        "print(f\"LinearSVM: {optimal_weights[1]:.4f}\")\n",
        "print(f\"CNN: {optimal_weights[2]:.4f}\")\n",
        "\n",
        "# Получаем предсказания всех моделей на тестовой выборке\n",
        "lr_test_pred = lr_model.predict_proba(X_test_tfidf)[:, 1]\n",
        "svm_test_dec = svm_model.decision_function(X_test_tfidf)\n",
        "svm_test_pred = (svm_test_dec - svm_test_dec.min()) / (svm_test_dec.max() - svm_test_dec.min())\n",
        "cnn_test_pred = cnn_model.predict([X_test_title_seq, X_test_text_seq]).flatten()\n",
        "\n",
        "# Собираем тестовые предсказания\n",
        "test_predictions = np.column_stack([lr_test_pred, svm_test_pred, cnn_test_pred])\n",
        "\n",
        "# оптимальные веса для финального предсказания\n",
        "final_ensemble_pred = np.average(test_predictions, axis=1, weights=optimal_weights)\n",
        "final_ensemble_binary = (final_ensemble_pred > 0.5).astype(int)\n",
        "\n",
        "# оценка качества\n",
        "test_accuracy = accuracy_score(y_test, final_ensemble_binary)\n",
        "test_f1 = f1_score(y_test, final_ensemble_binary)\n",
        "\n",
        "print(f\"\\nРезультаты на тестовой выборке\")\n",
        "print(f\"Точность ансамбля (Accuracy): {test_accuracy:.4f}\")\n",
        "print(f\"F1-Score ансамбля: {test_f1:.4f}\")\n",
        "\n",
        "# сравнение с индивидуальными моделями\n",
        "print(f\"\\nСравнение с индивидуальными моделями (Accuracy)\")\n",
        "print(f\"LogisticRegression: {accuracy_score(y_test, (lr_test_pred > 0.5).astype(int)):.4f}\")\n",
        "print(f\"LinearSVM: {accuracy_score(y_test, (svm_test_pred > 0.5).astype(int)):.4f}\")\n",
        "print(f\"CNN: {accuracy_score(y_test, (cnn_test_pred > 0.5).astype(int)):.4f}\")"
      ],
      "metadata": {
        "colab": {
          "base_uri": "https://localhost:8080/"
        },
        "id": "MTM4u9ayHd42",
        "outputId": "4ed3ba95-09e4-4b77-c5a8-bae6930192fd"
      },
      "execution_count": 15,
      "outputs": [
        {
          "output_type": "stream",
          "name": "stdout",
          "text": [
            "\n",
            "Оптимальные веса для ансамбля\n",
            "LogisticRegression: 0.3333\n",
            "LinearSVM: 0.3333\n",
            "CNN: 0.3333\n",
            "\u001b[1m277/277\u001b[0m \u001b[32m━━━━━━━━━━━━━━━━━━━━\u001b[0m\u001b[37m\u001b[0m \u001b[1m1s\u001b[0m 2ms/step\n",
            "\n",
            "Результаты на тестовой выборке\n",
            "Точность ансамбля (Accuracy): 0.9964\n",
            "F1-Score ансамбля: 0.9963\n",
            "\n",
            "Сравнение с индивидуальными моделями (Accuracy)\n",
            "LogisticRegression: 0.9782\n",
            "LinearSVM: 0.9745\n",
            "CNN: 0.9932\n"
          ]
        }
      ]
    }
  ]
}